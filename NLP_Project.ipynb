{
 "cells": [
  {
   "cell_type": "code",
   "execution_count": 1,
   "metadata": {},
   "outputs": [
    {
     "name": "stderr",
     "output_type": "stream",
     "text": [
      "/Library/Frameworks/Python.framework/Versions/3.12/lib/python3.12/site-packages/tqdm/auto.py:21: TqdmWarning: IProgress not found. Please update jupyter and ipywidgets. See https://ipywidgets.readthedocs.io/en/stable/user_install.html\n",
      "  from .autonotebook import tqdm as notebook_tqdm\n",
      "Some weights of the model checkpoint at bert-base-uncased were not used when initializing BertForMaskedLM: ['bert.pooler.dense.bias', 'bert.pooler.dense.weight', 'cls.seq_relationship.bias', 'cls.seq_relationship.weight']\n",
      "- This IS expected if you are initializing BertForMaskedLM from the checkpoint of a model trained on another task or with another architecture (e.g. initializing a BertForSequenceClassification model from a BertForPreTraining model).\n",
      "- This IS NOT expected if you are initializing BertForMaskedLM from the checkpoint of a model that you expect to be exactly identical (initializing a BertForSequenceClassification model from a BertForSequenceClassification model).\n"
     ]
    },
    {
     "data": {
      "text/plain": [
       "[{'score': 0.10731129348278046,\n",
       "  'token': 4827,\n",
       "  'token_str': 'fashion',\n",
       "  'sequence': \"hello i'm a fashion model.\"},\n",
       " {'score': 0.0877455323934555,\n",
       "  'token': 2535,\n",
       "  'token_str': 'role',\n",
       "  'sequence': \"hello i'm a role model.\"},\n",
       " {'score': 0.05338406190276146,\n",
       "  'token': 2047,\n",
       "  'token_str': 'new',\n",
       "  'sequence': \"hello i'm a new model.\"},\n",
       " {'score': 0.04667217284440994,\n",
       "  'token': 3565,\n",
       "  'token_str': 'super',\n",
       "  'sequence': \"hello i'm a super model.\"},\n",
       " {'score': 0.027096018195152283,\n",
       "  'token': 2986,\n",
       "  'token_str': 'fine',\n",
       "  'sequence': \"hello i'm a fine model.\"}]"
      ]
     },
     "execution_count": 1,
     "metadata": {},
     "output_type": "execute_result"
    }
   ],
   "source": [
    "from transformers import pipeline\n",
    "unmasker = pipeline('fill-mask', model='bert-base-uncased')\n",
    "unmasker(\"Hello I'm a [MASK] model.\")"
   ]
  },
  {
   "cell_type": "code",
   "execution_count": 2,
   "metadata": {},
   "outputs": [
    {
     "name": "stderr",
     "output_type": "stream",
     "text": [
      "Downloading https://raw.githubusercontent.com/stanfordnlp/stanza-resources/main/resources_1.8.0.json:   0%|          | 0.00/47.2k [00:00<?, ?B/s]huggingface/tokenizers: The current process just got forked, after parallelism has already been used. Disabling parallelism to avoid deadlocks...\n",
      "To disable this warning, you can either:\n",
      "\t- Avoid using `tokenizers` before the fork if possible\n",
      "\t- Explicitly set the environment variable TOKENIZERS_PARALLELISM=(true | false)\n",
      "Downloading https://raw.githubusercontent.com/stanfordnlp/stanza-resources/main/resources_1.8.0.json: 379kB [00:00, 144MB/s]                     \n",
      "2024-04-02 05:42:26 INFO: Downloaded file to /Users/apthebest1931/stanza_resources/resources.json\n",
      "2024-04-02 05:42:26 INFO: Downloading default packages for language: en (English) ...\n",
      "2024-04-02 05:42:27 INFO: File exists: /Users/apthebest1931/stanza_resources/en/default.zip\n",
      "2024-04-02 05:42:28 INFO: Finished downloading models and saved to /Users/apthebest1931/stanza_resources\n",
      "2024-04-02 05:42:28 INFO: Checking for updates to resources.json in case models have been updated.  Note: this behavior can be turned off with download_method=None or download_method=DownloadMethod.REUSE_RESOURCES\n",
      "Downloading https://raw.githubusercontent.com/stanfordnlp/stanza-resources/main/resources_1.8.0.json: 379kB [00:00, 22.2MB/s]                    \n",
      "2024-04-02 05:42:29 INFO: Downloaded file to /Users/apthebest1931/stanza_resources/resources.json\n",
      "2024-04-02 05:42:29 WARNING: Language en package default expects mwt, which has been added\n",
      "2024-04-02 05:42:29 INFO: Loading these models for language: en (English):\n",
      "===============================\n",
      "| Processor | Package         |\n",
      "-------------------------------\n",
      "| tokenize  | combined        |\n",
      "| mwt       | combined        |\n",
      "| pos       | combined_charlm |\n",
      "===============================\n",
      "\n",
      "2024-04-02 05:42:29 INFO: Using device: cpu\n",
      "2024-04-02 05:42:29 INFO: Loading: tokenize\n",
      "2024-04-02 05:42:29 INFO: Loading: mwt\n",
      "2024-04-02 05:42:29 INFO: Loading: pos\n",
      "2024-04-02 05:42:29 INFO: Done loading processors!\n"
     ]
    }
   ],
   "source": [
    "#For POS!!!!\n",
    "\n",
    "import stanza\n",
    "stanza.download('en')\n",
    "nlp = stanza.Pipeline(lang='en', processors='tokenize,pos')"
   ]
  },
  {
   "cell_type": "code",
   "execution_count": 12,
   "metadata": {},
   "outputs": [
    {
     "name": "stderr",
     "output_type": "stream",
     "text": [
      "Some weights of the model checkpoint at bert-base-uncased were not used when initializing BertForMaskedLM: ['bert.pooler.dense.bias', 'bert.pooler.dense.weight', 'cls.seq_relationship.bias', 'cls.seq_relationship.weight']\n",
      "- This IS expected if you are initializing BertForMaskedLM from the checkpoint of a model trained on another task or with another architecture (e.g. initializing a BertForSequenceClassification model from a BertForPreTraining model).\n",
      "- This IS NOT expected if you are initializing BertForMaskedLM from the checkpoint of a model that you expect to be exactly identical (initializing a BertForSequenceClassification model from a BertForSequenceClassification model).\n"
     ]
    }
   ],
   "source": [
    "import torch\n",
    "from transformers import BertForMaskedLM, BertTokenizer\n",
    "\n",
    "# Load the model and tokenizer\n",
    "model_name = 'bert-base-uncased'\n",
    "model = BertForMaskedLM.from_pretrained(model_name, output_hidden_states=True)\n",
    "tokenizer = BertTokenizer.from_pretrained(model_name)\n",
    "\n",
    "\n",
    "data = []\n",
    "import json\n",
    "file_path = 'streusle-4.4/streusle.json'\n",
    "with open(file_path, 'r', encoding='utf-8') as file:\n",
    "    data = json.load(file)\n",
    "original_token = []\n",
    "masked_applied_sentences = []\n",
    "masked_sentences = []\n",
    "for sentence in data:\n",
    "    original_sentence = sentence[\"text\"]\n",
    "    tokens = original_sentence.split()\n",
    "    masked_versions = []\n",
    "    for i in range(len(tokens)):\n",
    "        masked_sentence = \" \".join(tokens[:i] + ['[MASK]'] + tokens[i+1:])\n",
    "        original_token = \"\".join(tokens[i])\n",
    "        predicted_tokens = {}\n",
    "        prediction_output = []\n",
    "        inputs = tokenizer(masked_sentence, return_tensors=\"pt\")\n",
    "        masked_applied_sentences.append(masked_sentence)\n",
    "        # Get hidden states and other outputs from the model\n",
    "        with torch.no_grad():\n",
    "            outputs = model(**inputs)\n",
    "            hidden_states = outputs.hidden_states  # hidden states from each layer\n",
    "\n",
    "        # Apply the MLM head to each layer's output to get predictions\n",
    "        predictions_per_layer = []\n",
    "        \n",
    "        for layer_hidden_states in hidden_states:\n",
    "            # Apply the MLM prediction head to get logits\n",
    "            logits = model.cls(layer_hidden_states)\n",
    "            predictions = torch.softmax(logits, dim=-1)\n",
    "            predictions_per_layer.append(predictions)\n",
    "\n",
    "        predicted_tokens['id'] = {}\n",
    "        masked_index = inputs[\"input_ids\"][0].tolist().index(tokenizer.mask_token_id)\n",
    "        actual_sentence = \" \".join(tokens[:i] + [f'{original_token}'] + tokens[i+1:])\n",
    "        for j in range(len(predictions_per_layer)):\n",
    "            predicted_tokens['id'][f'layer{j}'] = {}\n",
    "            predicted_token_id = predictions_per_layer[j][0, masked_index].argmax().item()  # For the first layer\n",
    "            doc = nlp(tokenizer.decode([predicted_token_id]))  # Process the token_str to get POS\n",
    "            predicted_pos_tag = doc.sentences[0].words[0].upos\n",
    "            doc1 = nlp(original_token)\n",
    "            actual_pos_tag = doc1.sentences[0].words[0].upos\n",
    "            predicted_tokens['id'][f'layer{j}']['predicted_token'] = tokenizer.decode([predicted_token_id])\n",
    "            predicted_tokens['id'][f'layer{j}']['actual_token'] = original_token\n",
    "            predicted_tokens['id'][f'layer{j}']['predicted_pos'] = predicted_pos_tag\n",
    "            predicted_tokens['id'][f'layer{j}']['actual_pos'] = actual_pos_tag\n",
    "            predicted_tokens['id'][f'layer{j}']['predicted_sentence'] = \" \".join(tokens[:i] + [f'{tokenizer.decode([predicted_token_id])}'] + tokens[i+1:])\n",
    "        masked_sentences.append((actual_sentence, masked_sentence, predicted_tokens))"
   ]
  },
  {
   "cell_type": "code",
   "execution_count": 13,
   "metadata": {},
   "outputs": [
    {
     "name": "stdout",
     "output_type": "stream",
     "text": [
      "Accuracy word: [0.007407559826333875, 0.029465626864750304, 0.09343813658717258, 0.11992016296631618, 0.15082614868618696, 0.18134117985966788, 0.2175970698985576, 0.24722730920389308, 0.2860141155167802, 0.3304594744747834, 0.3623119817280191, 0.4040412354163666, 0.43266322352311776]\n",
      "Accuracy_only_pos: [0.048766435523364675, 0.16407745015329533, 0.3403362209098953, 0.37496656309800613, 0.44083211588715815, 0.48433095331179654, 0.5176238194201527, 0.552583386489434, 0.5922961377806127, 0.6170085804234655, 0.6441696331200231, 0.6712689561513612, 0.6707956953846786]\n",
      "Accuracy pos: [0.007386983271260725, 0.029321590979238255, 0.09300602893063643, 0.11932344286919484, 0.14987962715282208, 0.18006543344513262, 0.21570402683182782, 0.24500504125599293, 0.28344204613263646, 0.3274758739891767, 0.35918434535690036, 0.4006049507191506, 0.42902117327517025]\n"
     ]
    }
   ],
   "source": [
    "import numpy as np\n",
    "\n",
    "def calculate_accuracy(masked_sentences):\n",
    "    correct_predictions_word = 0\n",
    "    total_predictions = 0\n",
    "    correct_predictions_pos = 0\n",
    "    accuracy_word = [0]*13\n",
    "    accuracy_pos = [0]*13\n",
    "    accuracy_only_pos = [0]*13\n",
    "    for i in range(len(masked_sentences)):\n",
    "        actual_sentence = masked_sentences[i][0]\n",
    "        masked_sentence = masked_sentences[i][1]\n",
    "        predicted_tokens = masked_sentences[i][2]['id']\n",
    "        for j in range(13):\n",
    "            if predicted_tokens[f'layer{j}']['actual_token'].lower() == predicted_tokens[f'layer{j}']['predicted_token'].lower():\n",
    "                accuracy_word[j] += 1\n",
    "            if predicted_tokens[f'layer{j}']['actual_token'].lower() == predicted_tokens[f'layer{j}']['predicted_token'].lower() and predicted_tokens[f'layer{j}']['actual_pos'].lower() == predicted_tokens[f'layer{j}']['predicted_pos'].lower():\n",
    "                accuracy_pos[j] += 1\n",
    "            if predicted_tokens[f'layer{j}']['actual_pos'].lower() == predicted_tokens[f'layer{j}']['predicted_pos'].lower():\n",
    "                accuracy_only_pos[j] += 1\n",
    "        total_predictions +=1\n",
    "    accuracy_word = list((np.array(accuracy_word))/total_predictions)\n",
    "    accuracy_pos = list((np.array(accuracy_pos))/total_predictions)\n",
    "    accuracy_only_pos = list((np.array(accuracy_only_pos))/total_predictions)\n",
    "    return accuracy_word, accuracy_pos, accuracy_only_pos\n",
    "\n",
    "\n",
    "accuracy_word, accuracy_pos, accuracy_only_pos = calculate_accuracy(masked_sentences)\n",
    "print(f\"Accuracy word: {accuracy_word}\")\n",
    "print(f\"Accuracy_only_pos: {accuracy_only_pos}\")\n",
    "print(f\"Accuracy pos: {accuracy_pos}\")\n",
    "        "
   ]
  },
  {
   "cell_type": "code",
   "execution_count": 14,
   "metadata": {},
   "outputs": [],
   "source": [
    "delta_word = np.diff(accuracy_word, prepend=[0])\n",
    "delta_pos = np.diff(accuracy_pos, prepend=[0])\n",
    "delta_only_pos = np.diff(accuracy_only_pos, prepend=[0])\n",
    "expected_layer_word = np.sum(layers * delta_word) / np.sum(delta_word)\n",
    "expected_layer_pos = np.sum(layers * delta_pos) / np.sum(delta_pos)\n",
    "expected_layer_only_pos = np.sum(layers * delta_only_pos) / np.sum(delta_only_pos)\n"
   ]
  },
  {
   "cell_type": "code",
   "execution_count": 32,
   "metadata": {},
   "outputs": [
    {
     "data": {
      "image/png": "[encoded data removed]",
      "text/plain": [
       "<Figure size 720x576 with 4 Axes>"
      ]
     },
     "metadata": {
      "needs_background": "light"
     },
     "output_type": "display_data"
    }
   ],
   "source": [
    "import matplotlib.pyplot as plt\n",
    "fig, (ax1, ax2, ax3, ax4) = plt.subplots(4, 1, figsize=(10, 8))\n",
    "layers = [0,1,2,3,4,5,6,7,8,9,10,11,12]\n",
    "layers = np.array(layers)\n",
    "# Top subplot\n",
    "ax1.plot(layers, accuracy_pos, label='POS Match', color='blue')\n",
    "ax1.plot(layers, accuracy_word, label='Word Match', color='orange')\n",
    "ax1.plot(layers, accuracy_only_pos, label='Only POS Match', color='green')\n",
    "ax1.set_ylabel('Accuracy')\n",
    "ax1.set_title('Word Match and POS Match (N = 55590)')\n",
    "ax1.legend()\n",
    "\n",
    "# Bottom subplot for Δpos and Δword\n",
    "ax2.bar(layers, delta_pos, width=0.3, label='Δpos', color='blue')\n",
    "ax2.axhline(y=0, color='black', linewidth=0.5)\n",
    "ax2.axvline(x=expected_layer_pos, color='red', linestyle='--', label='Expected Layer')  # Example layer\n",
    "ax2.set_xlabel('Layer')\n",
    "ax2.set_ylabel('ΔAccuracy_pos')\n",
    "ax2.legend()\n",
    "\n",
    "\n",
    "ax3.bar(layers, delta_word, width=0.3, label='Δword', color='orange')\n",
    "ax3.axhline(y=0, color='black', linewidth=0.5)\n",
    "ax3.axvline(x=expected_layer_word, color='red', linestyle='--', label='Expected Layer')  # Example layer\n",
    "ax3.set_xlabel('Layer')\n",
    "ax3.set_ylabel('ΔAccuracy_word')\n",
    "ax3.legend()\n",
    "\n",
    "ax4.bar(layers, delta_word, width=0.3, label='Δonly pos', color='green')\n",
    "ax4.axhline(y=0, color='black', linewidth=0.5)\n",
    "ax4.axvline(x=expected_layer_only_pos, color='red', linestyle='--', label='Expected Layer')  # Example layer\n",
    "ax4.set_xlabel('Layer')\n",
    "ax4.set_ylabel('ΔAccuracy_only pos')\n",
    "ax4.legend()\n",
    "# Tight layout to prevent overlap\n",
    "plt.tight_layout()\n",
    "\n",
    "\n",
    "\n",
    "# Show the plot\n",
    "plt.show()"
   ]
  },
  {
   "cell_type": "code",
   "execution_count": 19,
   "metadata": {},
   "outputs": [
    {
     "data": {
      "text/plain": [
       "([0.007407559826333875,\n",
       "  0.029465626864750304,\n",
       "  0.09343813658717258,\n",
       "  0.11992016296631618,\n",
       "  0.15082614868618696,\n",
       "  0.18134117985966788,\n",
       "  0.2175970698985576,\n",
       "  0.24722730920389308,\n",
       "  0.2860141155167802,\n",
       "  0.3304594744747834,\n",
       "  0.3623119817280191,\n",
       "  0.4040412354163666,\n",
       "  0.43266322352311776],\n",
       " [0.007386983271260725,\n",
       "  0.029321590979238255,\n",
       "  0.09300602893063643,\n",
       "  0.11932344286919484,\n",
       "  0.14987962715282208,\n",
       "  0.18006543344513262,\n",
       "  0.21570402683182782,\n",
       "  0.24500504125599293,\n",
       "  0.28344204613263646,\n",
       "  0.3274758739891767,\n",
       "  0.35918434535690036,\n",
       "  0.4006049507191506,\n",
       "  0.42902117327517025])"
      ]
     },
     "execution_count": 19,
     "metadata": {},
     "output_type": "execute_result"
    }
   ],
   "source": [
    "accuracy_word, accuracy_pos"
   ]
  }
 ],
 "metadata": {
  "kernelspec": {
   "display_name": "Python 3 (ipykernel)",
   "language": "python",
   "name": "python3"
  },
  "language_info": {
   "codemirror_mode": {
    "name": "ipython",
    "version": 3
   },
   "file_extension": ".py",
   "mimetype": "text/x-python",
   "name": "python",
   "nbconvert_exporter": "python",
   "pygments_lexer": "ipython3",
   "version": "3.8.5"
  }
 },
 "nbformat": 4,
 "nbformat_minor": 2
}
